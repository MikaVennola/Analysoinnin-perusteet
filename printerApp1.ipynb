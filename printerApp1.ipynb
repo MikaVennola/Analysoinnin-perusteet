{
 "cells": [
  {
   "cell_type": "code",
   "execution_count": 10,
   "metadata": {},
   "outputs": [
    {
     "name": "stdout",
     "output_type": "stream",
     "text": [
      "Printer app\n",
      "This app is made by: Mika\n",
      "The value of number1 is 5\n",
      "The value of number2 is 10\n",
      "50\n",
      "<class 'int'>\n"
     ]
    }
   ],
   "source": [
    "print (\"Printer app\")\n",
    "creator = \"Mika\"\n",
    "print (\"This app is made by:\",creator)\n",
    "\n",
    "number1 = 5\n",
    "number2 = 10\n",
    "\n",
    "#print(number1)\n",
    "print(\"The value of number1 is\",number1)\n",
    "print(\"The value of number2 is\",number2)\n",
    "\n",
    "multiplication = number1*number2\n",
    "print(multiplication)\n",
    "print(type(multiplication))\n",
    "\n",
    "\n",
    "  "
   ]
  }
 ],
 "metadata": {
  "kernelspec": {
   "display_name": "Python 3",
   "language": "python",
   "name": "python3"
  },
  "language_info": {
   "codemirror_mode": {
    "name": "ipython",
    "version": 3
   },
   "file_extension": ".py",
   "mimetype": "text/x-python",
   "name": "python",
   "nbconvert_exporter": "python",
   "pygments_lexer": "ipython3",
   "version": "3.12.0"
  }
 },
 "nbformat": 4,
 "nbformat_minor": 2
}
