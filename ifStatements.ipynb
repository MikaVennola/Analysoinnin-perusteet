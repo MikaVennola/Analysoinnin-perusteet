{
 "cells": [
  {
   "cell_type": "code",
   "execution_count": 50,
   "metadata": {},
   "outputs": [
    {
     "name": "stdout",
     "output_type": "stream",
     "text": [
      "Number1 is greater than number2\n",
      "Number1 is greater or same as number2\n",
      "3 is not the same 2\n"
     ]
    }
   ],
   "source": [
    "number1 = 3\n",
    "number2 = 2\n",
    "\n",
    "if number1 == number2:\n",
    "    print(\"Numbers are same\")\n",
    "\n",
    "if number1 > number2:\n",
    "    print(\"Number1 is greater than number2\")\n",
    "\n",
    "if number1 >= number2:\n",
    "    print(\"Number1 is greater or same as number2\")\n",
    "\n",
    "if number1 is not number2: \n",
    "    print(number1,\"is not the same\",number2)\n"
   ]
  },
  {
   "cell_type": "code",
   "execution_count": 59,
   "metadata": {},
   "outputs": [
    {
     "name": "stdout",
     "output_type": "stream",
     "text": [
      "Some numbers are equal\n",
      "Number1 is greater than number2\n",
      "Number1 and number3 are the same\n"
     ]
    }
   ],
   "source": [
    "number1 = 4\n",
    "number2 = 3\n",
    "number3 = 4\n",
    "\n",
    "#if number1 == number2 == number3:\n",
    "   # print(\"All numbers are the same\")\n",
    "\n",
    "if number1 == number2 or number1 == number3:\n",
    "    print(\"Some numbers are equal\")\n",
    "\n",
    "if number1 > number2 and number1 > number3:\n",
    "    print(\"Number1 is greater than number2 and number3\")\n",
    "\n",
    "if number1 > number2:\n",
    "    print(\"Number1 is greater than number2\")\n",
    "elif number1 > number3:\n",
    "    print(\"Number1 is greater than number3\")\n",
    "\n",
    "if number1 == number2:\n",
    "    print(\"Number1 and number2 are the same\")\n",
    "elif number1 == number3:\n",
    "    print(\"Number1 and number3 are the same\")\n",
    "\n"
   ]
  },
  {
   "cell_type": "code",
   "execution_count": 64,
   "metadata": {},
   "outputs": [
    {
     "name": "stdout",
     "output_type": "stream",
     "text": [
      "Name1 and name2 are not the same\n",
      "Name1 and name3 are the same\n"
     ]
    }
   ],
   "source": [
    "name1 = \"Mikko\"\n",
    "name2 = \"Joppe\"\n",
    "name3 = \"Mikko\"\n",
    "\n",
    "if name1 == name2:\n",
    "    print(\"Name1 and name2 are the same\")\n",
    "\n",
    "if name1 != name2:\n",
    "    print(\"Name1 and name2 are not the same\")\n",
    "\n",
    "if name1 == name2:\n",
    "    print(\"Name1 and name2 are the same\")\n",
    "elif name1 == name3:\n",
    "    print(\"Name1 and name3 are the same\")"
   ]
  }
 ],
 "metadata": {
  "kernelspec": {
   "display_name": "Python 3",
   "language": "python",
   "name": "python3"
  },
  "language_info": {
   "codemirror_mode": {
    "name": "ipython",
    "version": 3
   },
   "file_extension": ".py",
   "mimetype": "text/x-python",
   "name": "python",
   "nbconvert_exporter": "python",
   "pygments_lexer": "ipython3",
   "version": "3.12.0"
  }
 },
 "nbformat": 4,
 "nbformat_minor": 2
}
